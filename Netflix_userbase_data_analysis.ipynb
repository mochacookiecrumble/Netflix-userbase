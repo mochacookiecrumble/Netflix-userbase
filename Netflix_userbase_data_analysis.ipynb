{
 "cells": [
  {
   "cell_type": "code",
   "id": "initial_id",
   "metadata": {
    "collapsed": true,
    "ExecuteTime": {
     "end_time": "2024-10-25T10:05:56.871111Z",
     "start_time": "2024-10-25T10:05:55.953936Z"
    }
   },
   "source": [
    "#import the libraries\n",
    "\n",
    "import pandas as pd\n",
    "import sqlite3\n",
    "import matplotlib.pyplot as plt\n",
    "from sqlalchemy import create_engine\n",
    "from streamlit import dataframe\n",
    "import seaborn as sns\n",
    "engine = create_engine('sqlite:///netflix_users.db',echo=False)"
   ],
   "outputs": [],
   "execution_count": 2
  },
  {
   "metadata": {
    "ExecuteTime": {
     "end_time": "2024-10-25T10:05:56.911651Z",
     "start_time": "2024-10-25T10:05:56.886401Z"
    }
   },
   "cell_type": "code",
   "source": [
    "df = pd.read_csv('netflix_userbase.csv')\n",
    "df.head()"
   ],
   "id": "ce6aec3ec93174d6",
   "outputs": [
    {
     "data": {
      "text/plain": [
       "   User ID Subscription Type  Monthly Revenue Join Date Last Payment Date  \\\n",
       "0        1             Basic               10  15-01-22          10-06-23   \n",
       "1        2           Premium               15  05-09-21          22-06-23   \n",
       "2        3          Standard               12  28-02-23          27-06-23   \n",
       "3        4          Standard               12  10-07-22          26-06-23   \n",
       "4        5             Basic               10  01-05-23          28-06-23   \n",
       "\n",
       "          Country  Age  Gender      Device Plan Duration  \n",
       "0   United States   28    Male  Smartphone       1 Month  \n",
       "1          Canada   35  Female      Tablet       1 Month  \n",
       "2  United Kingdom   42    Male    Smart TV       1 Month  \n",
       "3       Australia   51  Female      Laptop       1 Month  \n",
       "4         Germany   33    Male  Smartphone       1 Month  "
      ],
      "text/html": [
       "<div>\n",
       "<style scoped>\n",
       "    .dataframe tbody tr th:only-of-type {\n",
       "        vertical-align: middle;\n",
       "    }\n",
       "\n",
       "    .dataframe tbody tr th {\n",
       "        vertical-align: top;\n",
       "    }\n",
       "\n",
       "    .dataframe thead th {\n",
       "        text-align: right;\n",
       "    }\n",
       "</style>\n",
       "<table border=\"1\" class=\"dataframe\">\n",
       "  <thead>\n",
       "    <tr style=\"text-align: right;\">\n",
       "      <th></th>\n",
       "      <th>User ID</th>\n",
       "      <th>Subscription Type</th>\n",
       "      <th>Monthly Revenue</th>\n",
       "      <th>Join Date</th>\n",
       "      <th>Last Payment Date</th>\n",
       "      <th>Country</th>\n",
       "      <th>Age</th>\n",
       "      <th>Gender</th>\n",
       "      <th>Device</th>\n",
       "      <th>Plan Duration</th>\n",
       "    </tr>\n",
       "  </thead>\n",
       "  <tbody>\n",
       "    <tr>\n",
       "      <th>0</th>\n",
       "      <td>1</td>\n",
       "      <td>Basic</td>\n",
       "      <td>10</td>\n",
       "      <td>15-01-22</td>\n",
       "      <td>10-06-23</td>\n",
       "      <td>United States</td>\n",
       "      <td>28</td>\n",
       "      <td>Male</td>\n",
       "      <td>Smartphone</td>\n",
       "      <td>1 Month</td>\n",
       "    </tr>\n",
       "    <tr>\n",
       "      <th>1</th>\n",
       "      <td>2</td>\n",
       "      <td>Premium</td>\n",
       "      <td>15</td>\n",
       "      <td>05-09-21</td>\n",
       "      <td>22-06-23</td>\n",
       "      <td>Canada</td>\n",
       "      <td>35</td>\n",
       "      <td>Female</td>\n",
       "      <td>Tablet</td>\n",
       "      <td>1 Month</td>\n",
       "    </tr>\n",
       "    <tr>\n",
       "      <th>2</th>\n",
       "      <td>3</td>\n",
       "      <td>Standard</td>\n",
       "      <td>12</td>\n",
       "      <td>28-02-23</td>\n",
       "      <td>27-06-23</td>\n",
       "      <td>United Kingdom</td>\n",
       "      <td>42</td>\n",
       "      <td>Male</td>\n",
       "      <td>Smart TV</td>\n",
       "      <td>1 Month</td>\n",
       "    </tr>\n",
       "    <tr>\n",
       "      <th>3</th>\n",
       "      <td>4</td>\n",
       "      <td>Standard</td>\n",
       "      <td>12</td>\n",
       "      <td>10-07-22</td>\n",
       "      <td>26-06-23</td>\n",
       "      <td>Australia</td>\n",
       "      <td>51</td>\n",
       "      <td>Female</td>\n",
       "      <td>Laptop</td>\n",
       "      <td>1 Month</td>\n",
       "    </tr>\n",
       "    <tr>\n",
       "      <th>4</th>\n",
       "      <td>5</td>\n",
       "      <td>Basic</td>\n",
       "      <td>10</td>\n",
       "      <td>01-05-23</td>\n",
       "      <td>28-06-23</td>\n",
       "      <td>Germany</td>\n",
       "      <td>33</td>\n",
       "      <td>Male</td>\n",
       "      <td>Smartphone</td>\n",
       "      <td>1 Month</td>\n",
       "    </tr>\n",
       "  </tbody>\n",
       "</table>\n",
       "</div>"
      ]
     },
     "execution_count": 3,
     "metadata": {},
     "output_type": "execute_result"
    }
   ],
   "execution_count": 3
  },
  {
   "metadata": {
    "ExecuteTime": {
     "end_time": "2024-10-25T10:05:56.941671Z",
     "start_time": "2024-10-25T10:05:56.929898Z"
    }
   },
   "cell_type": "code",
   "source": [
    "df.isnull().sum()\n",
    "df.columns = df.columns.str.replace(' ', '')"
   ],
   "id": "cc4ce45d837a72ae",
   "outputs": [],
   "execution_count": 4
  },
  {
   "metadata": {},
   "cell_type": "markdown",
   "source": "#Transfering the dataframe df into netflix_users.rb",
   "id": "6fb1e0c162048dbf"
  },
  {
   "metadata": {
    "ExecuteTime": {
     "end_time": "2024-10-25T10:05:57.039835Z",
     "start_time": "2024-10-25T10:05:56.975843Z"
    }
   },
   "cell_type": "code",
   "source": "df.to_sql('netflix_userbase', con=engine, if_exists='replace')",
   "id": "c6e69149d7893e66",
   "outputs": [
    {
     "data": {
      "text/plain": [
       "2500"
      ]
     },
     "execution_count": 5,
     "metadata": {},
     "output_type": "execute_result"
    }
   ],
   "execution_count": 5
  },
  {
   "metadata": {
    "ExecuteTime": {
     "end_time": "2024-10-25T10:05:57.110259Z",
     "start_time": "2024-10-25T10:05:57.088156Z"
    }
   },
   "cell_type": "code",
   "source": [
    "query_1 = \"SELECT * FROM netflix_userbase\"\n",
    "\n",
    "pd.read_sql(query_1, con=engine)\n"
   ],
   "id": "e29d4df5ebfcec6f",
   "outputs": [
    {
     "data": {
      "text/plain": [
       "      index  UserID SubscriptionType  MonthlyRevenue  JoinDate  \\\n",
       "0         0       1            Basic              10  15-01-22   \n",
       "1         1       2          Premium              15  05-09-21   \n",
       "2         2       3         Standard              12  28-02-23   \n",
       "3         3       4         Standard              12  10-07-22   \n",
       "4         4       5            Basic              10  01-05-23   \n",
       "...     ...     ...              ...             ...       ...   \n",
       "2495   2495    2496          Premium              14  25-07-22   \n",
       "2496   2496    2497            Basic              15  04-08-22   \n",
       "2497   2497    2498         Standard              12  09-08-22   \n",
       "2498   2498    2499         Standard              13  12-08-22   \n",
       "2499   2499    2500            Basic              15  13-08-22   \n",
       "\n",
       "     LastPaymentDate         Country  Age  Gender      Device PlanDuration  \n",
       "0           10-06-23   United States   28    Male  Smartphone      1 Month  \n",
       "1           22-06-23          Canada   35  Female      Tablet      1 Month  \n",
       "2           27-06-23  United Kingdom   42    Male    Smart TV      1 Month  \n",
       "3           26-06-23       Australia   51  Female      Laptop      1 Month  \n",
       "4           28-06-23         Germany   33    Male  Smartphone      1 Month  \n",
       "...              ...             ...  ...     ...         ...          ...  \n",
       "2495        12-07-23           Spain   28  Female    Smart TV      1 Month  \n",
       "2496        14-07-23           Spain   33  Female    Smart TV      1 Month  \n",
       "2497        15-07-23   United States   38    Male      Laptop      1 Month  \n",
       "2498        12-07-23          Canada   48  Female      Tablet      1 Month  \n",
       "2499        12-07-23   United States   35  Female    Smart TV      1 Month  \n",
       "\n",
       "[2500 rows x 11 columns]"
      ],
      "text/html": [
       "<div>\n",
       "<style scoped>\n",
       "    .dataframe tbody tr th:only-of-type {\n",
       "        vertical-align: middle;\n",
       "    }\n",
       "\n",
       "    .dataframe tbody tr th {\n",
       "        vertical-align: top;\n",
       "    }\n",
       "\n",
       "    .dataframe thead th {\n",
       "        text-align: right;\n",
       "    }\n",
       "</style>\n",
       "<table border=\"1\" class=\"dataframe\">\n",
       "  <thead>\n",
       "    <tr style=\"text-align: right;\">\n",
       "      <th></th>\n",
       "      <th>index</th>\n",
       "      <th>UserID</th>\n",
       "      <th>SubscriptionType</th>\n",
       "      <th>MonthlyRevenue</th>\n",
       "      <th>JoinDate</th>\n",
       "      <th>LastPaymentDate</th>\n",
       "      <th>Country</th>\n",
       "      <th>Age</th>\n",
       "      <th>Gender</th>\n",
       "      <th>Device</th>\n",
       "      <th>PlanDuration</th>\n",
       "    </tr>\n",
       "  </thead>\n",
       "  <tbody>\n",
       "    <tr>\n",
       "      <th>0</th>\n",
       "      <td>0</td>\n",
       "      <td>1</td>\n",
       "      <td>Basic</td>\n",
       "      <td>10</td>\n",
       "      <td>15-01-22</td>\n",
       "      <td>10-06-23</td>\n",
       "      <td>United States</td>\n",
       "      <td>28</td>\n",
       "      <td>Male</td>\n",
       "      <td>Smartphone</td>\n",
       "      <td>1 Month</td>\n",
       "    </tr>\n",
       "    <tr>\n",
       "      <th>1</th>\n",
       "      <td>1</td>\n",
       "      <td>2</td>\n",
       "      <td>Premium</td>\n",
       "      <td>15</td>\n",
       "      <td>05-09-21</td>\n",
       "      <td>22-06-23</td>\n",
       "      <td>Canada</td>\n",
       "      <td>35</td>\n",
       "      <td>Female</td>\n",
       "      <td>Tablet</td>\n",
       "      <td>1 Month</td>\n",
       "    </tr>\n",
       "    <tr>\n",
       "      <th>2</th>\n",
       "      <td>2</td>\n",
       "      <td>3</td>\n",
       "      <td>Standard</td>\n",
       "      <td>12</td>\n",
       "      <td>28-02-23</td>\n",
       "      <td>27-06-23</td>\n",
       "      <td>United Kingdom</td>\n",
       "      <td>42</td>\n",
       "      <td>Male</td>\n",
       "      <td>Smart TV</td>\n",
       "      <td>1 Month</td>\n",
       "    </tr>\n",
       "    <tr>\n",
       "      <th>3</th>\n",
       "      <td>3</td>\n",
       "      <td>4</td>\n",
       "      <td>Standard</td>\n",
       "      <td>12</td>\n",
       "      <td>10-07-22</td>\n",
       "      <td>26-06-23</td>\n",
       "      <td>Australia</td>\n",
       "      <td>51</td>\n",
       "      <td>Female</td>\n",
       "      <td>Laptop</td>\n",
       "      <td>1 Month</td>\n",
       "    </tr>\n",
       "    <tr>\n",
       "      <th>4</th>\n",
       "      <td>4</td>\n",
       "      <td>5</td>\n",
       "      <td>Basic</td>\n",
       "      <td>10</td>\n",
       "      <td>01-05-23</td>\n",
       "      <td>28-06-23</td>\n",
       "      <td>Germany</td>\n",
       "      <td>33</td>\n",
       "      <td>Male</td>\n",
       "      <td>Smartphone</td>\n",
       "      <td>1 Month</td>\n",
       "    </tr>\n",
       "    <tr>\n",
       "      <th>...</th>\n",
       "      <td>...</td>\n",
       "      <td>...</td>\n",
       "      <td>...</td>\n",
       "      <td>...</td>\n",
       "      <td>...</td>\n",
       "      <td>...</td>\n",
       "      <td>...</td>\n",
       "      <td>...</td>\n",
       "      <td>...</td>\n",
       "      <td>...</td>\n",
       "      <td>...</td>\n",
       "    </tr>\n",
       "    <tr>\n",
       "      <th>2495</th>\n",
       "      <td>2495</td>\n",
       "      <td>2496</td>\n",
       "      <td>Premium</td>\n",
       "      <td>14</td>\n",
       "      <td>25-07-22</td>\n",
       "      <td>12-07-23</td>\n",
       "      <td>Spain</td>\n",
       "      <td>28</td>\n",
       "      <td>Female</td>\n",
       "      <td>Smart TV</td>\n",
       "      <td>1 Month</td>\n",
       "    </tr>\n",
       "    <tr>\n",
       "      <th>2496</th>\n",
       "      <td>2496</td>\n",
       "      <td>2497</td>\n",
       "      <td>Basic</td>\n",
       "      <td>15</td>\n",
       "      <td>04-08-22</td>\n",
       "      <td>14-07-23</td>\n",
       "      <td>Spain</td>\n",
       "      <td>33</td>\n",
       "      <td>Female</td>\n",
       "      <td>Smart TV</td>\n",
       "      <td>1 Month</td>\n",
       "    </tr>\n",
       "    <tr>\n",
       "      <th>2497</th>\n",
       "      <td>2497</td>\n",
       "      <td>2498</td>\n",
       "      <td>Standard</td>\n",
       "      <td>12</td>\n",
       "      <td>09-08-22</td>\n",
       "      <td>15-07-23</td>\n",
       "      <td>United States</td>\n",
       "      <td>38</td>\n",
       "      <td>Male</td>\n",
       "      <td>Laptop</td>\n",
       "      <td>1 Month</td>\n",
       "    </tr>\n",
       "    <tr>\n",
       "      <th>2498</th>\n",
       "      <td>2498</td>\n",
       "      <td>2499</td>\n",
       "      <td>Standard</td>\n",
       "      <td>13</td>\n",
       "      <td>12-08-22</td>\n",
       "      <td>12-07-23</td>\n",
       "      <td>Canada</td>\n",
       "      <td>48</td>\n",
       "      <td>Female</td>\n",
       "      <td>Tablet</td>\n",
       "      <td>1 Month</td>\n",
       "    </tr>\n",
       "    <tr>\n",
       "      <th>2499</th>\n",
       "      <td>2499</td>\n",
       "      <td>2500</td>\n",
       "      <td>Basic</td>\n",
       "      <td>15</td>\n",
       "      <td>13-08-22</td>\n",
       "      <td>12-07-23</td>\n",
       "      <td>United States</td>\n",
       "      <td>35</td>\n",
       "      <td>Female</td>\n",
       "      <td>Smart TV</td>\n",
       "      <td>1 Month</td>\n",
       "    </tr>\n",
       "  </tbody>\n",
       "</table>\n",
       "<p>2500 rows × 11 columns</p>\n",
       "</div>"
      ]
     },
     "execution_count": 6,
     "metadata": {},
     "output_type": "execute_result"
    }
   ],
   "execution_count": 6
  },
  {
   "metadata": {},
   "cell_type": "markdown",
   "source": "## What is the count of Users per Subscription Type?*",
   "id": "289be1f391760543"
  },
  {
   "metadata": {
    "ExecuteTime": {
     "end_time": "2024-10-25T10:05:57.189646Z",
     "start_time": "2024-10-25T10:05:57.183132Z"
    }
   },
   "cell_type": "code",
   "source": [
    "query_2 = \"\"\" SELECT SubscriptionType,COUNT(*) AS sub_count FROM  netflix_userbase \n",
    "                GROUP BY SubscriptionType \"\"\"\n",
    "subscription_df = pd.read_sql(query_2, con=engine)"
   ],
   "id": "ea9c30728464b9ec",
   "outputs": [],
   "execution_count": 7
  },
  {
   "metadata": {
    "ExecuteTime": {
     "end_time": "2024-10-25T10:05:57.290021Z",
     "start_time": "2024-10-25T10:05:57.284319Z"
    }
   },
   "cell_type": "code",
   "source": "subscription_df",
   "id": "7784f0ed512f0470",
   "outputs": [
    {
     "data": {
      "text/plain": [
       "  SubscriptionType  sub_count\n",
       "0            Basic        999\n",
       "1          Premium        733\n",
       "2         Standard        768"
      ],
      "text/html": [
       "<div>\n",
       "<style scoped>\n",
       "    .dataframe tbody tr th:only-of-type {\n",
       "        vertical-align: middle;\n",
       "    }\n",
       "\n",
       "    .dataframe tbody tr th {\n",
       "        vertical-align: top;\n",
       "    }\n",
       "\n",
       "    .dataframe thead th {\n",
       "        text-align: right;\n",
       "    }\n",
       "</style>\n",
       "<table border=\"1\" class=\"dataframe\">\n",
       "  <thead>\n",
       "    <tr style=\"text-align: right;\">\n",
       "      <th></th>\n",
       "      <th>SubscriptionType</th>\n",
       "      <th>sub_count</th>\n",
       "    </tr>\n",
       "  </thead>\n",
       "  <tbody>\n",
       "    <tr>\n",
       "      <th>0</th>\n",
       "      <td>Basic</td>\n",
       "      <td>999</td>\n",
       "    </tr>\n",
       "    <tr>\n",
       "      <th>1</th>\n",
       "      <td>Premium</td>\n",
       "      <td>733</td>\n",
       "    </tr>\n",
       "    <tr>\n",
       "      <th>2</th>\n",
       "      <td>Standard</td>\n",
       "      <td>768</td>\n",
       "    </tr>\n",
       "  </tbody>\n",
       "</table>\n",
       "</div>"
      ]
     },
     "execution_count": 8,
     "metadata": {},
     "output_type": "execute_result"
    }
   ],
   "execution_count": 8
  },
  {
   "metadata": {
    "ExecuteTime": {
     "end_time": "2024-10-25T10:05:57.725313Z",
     "start_time": "2024-10-25T10:05:57.401505Z"
    }
   },
   "cell_type": "code",
   "source": [
    "sns.barplot(x='SubscriptionType', y='sub_count', data=subscription_df,color='red',edgecolor='black')\n",
    "plt.title(\"Netflix Subscription Type\")"
   ],
   "id": "76f7009b2c98510b",
   "outputs": [
    {
     "data": {
      "text/plain": [
       "Text(0.5, 1.0, 'Netflix Subscription Type')"
      ]
     },
     "execution_count": 9,
     "metadata": {},
     "output_type": "execute_result"
    },
    {
     "data": {
      "text/plain": [
       "<Figure size 640x480 with 1 Axes>"
      ],
      "image/png": "[encoded data removed]"
     },
     "metadata": {},
     "output_type": "display_data"
    }
   ],
   "execution_count": 9
  },
  {
   "metadata": {},
   "cell_type": "markdown",
   "source": "**Netflix has more basic users than any other subscription type.**",
   "id": "33afd984b235cb0d"
  },
  {
   "metadata": {},
   "cell_type": "markdown",
   "source": "## What is the count of users per device type?",
   "id": "8aa129362a070457"
  },
  {
   "metadata": {
    "ExecuteTime": {
     "end_time": "2024-10-25T10:05:57.833514Z",
     "start_time": "2024-10-25T10:05:57.822493Z"
    }
   },
   "cell_type": "code",
   "source": [
    "query_3 = \"\"\"SELECT Device,COUNT(*) AS device_count FROM  netflix_userbase \n",
    "            GROUP BY Device \"\"\"\n",
    "\n",
    "device_df = pd.read_sql(query_3, con=engine)\n",
    "device_df.head()"
   ],
   "id": "a49d2f4f1304606c",
   "outputs": [
    {
     "data": {
      "text/plain": [
       "       Device  device_count\n",
       "0      Laptop           636\n",
       "1    Smart TV           610\n",
       "2  Smartphone           621\n",
       "3      Tablet           633"
      ],
      "text/html": [
       "<div>\n",
       "<style scoped>\n",
       "    .dataframe tbody tr th:only-of-type {\n",
       "        vertical-align: middle;\n",
       "    }\n",
       "\n",
       "    .dataframe tbody tr th {\n",
       "        vertical-align: top;\n",
       "    }\n",
       "\n",
       "    .dataframe thead th {\n",
       "        text-align: right;\n",
       "    }\n",
       "</style>\n",
       "<table border=\"1\" class=\"dataframe\">\n",
       "  <thead>\n",
       "    <tr style=\"text-align: right;\">\n",
       "      <th></th>\n",
       "      <th>Device</th>\n",
       "      <th>device_count</th>\n",
       "    </tr>\n",
       "  </thead>\n",
       "  <tbody>\n",
       "    <tr>\n",
       "      <th>0</th>\n",
       "      <td>Laptop</td>\n",
       "      <td>636</td>\n",
       "    </tr>\n",
       "    <tr>\n",
       "      <th>1</th>\n",
       "      <td>Smart TV</td>\n",
       "      <td>610</td>\n",
       "    </tr>\n",
       "    <tr>\n",
       "      <th>2</th>\n",
       "      <td>Smartphone</td>\n",
       "      <td>621</td>\n",
       "    </tr>\n",
       "    <tr>\n",
       "      <th>3</th>\n",
       "      <td>Tablet</td>\n",
       "      <td>633</td>\n",
       "    </tr>\n",
       "  </tbody>\n",
       "</table>\n",
       "</div>"
      ]
     },
     "execution_count": 10,
     "metadata": {},
     "output_type": "execute_result"
    }
   ],
   "execution_count": 10
  },
  {
   "metadata": {
    "ExecuteTime": {
     "end_time": "2024-10-25T10:05:58.064706Z",
     "start_time": "2024-10-25T10:05:57.884585Z"
    }
   },
   "cell_type": "code",
   "source": [
    "sns.barplot(x='Device', y='device_count', data=device_df,color='blue',edgecolor='black')\n",
    "plt.title(\"Netflix Device Count\")"
   ],
   "id": "e888e3fdcf7fa492",
   "outputs": [
    {
     "data": {
      "text/plain": [
       "Text(0.5, 1.0, 'Netflix Device Count')"
      ]
     },
     "execution_count": 11,
     "metadata": {},
     "output_type": "execute_result"
    },
    {
     "data": {
      "text/plain": [
       "<Figure size 640x480 with 1 Axes>"
      ],
      "image/png": "[encoded data removed]"
     },
     "metadata": {},
     "output_type": "display_data"
    }
   ],
   "execution_count": 11
  },
  {
   "metadata": {},
   "cell_type": "markdown",
   "source": "**Netflix is watched on laptops more than any other medium.**\n",
   "id": "6e29bf6c60032294"
  },
  {
   "metadata": {},
   "cell_type": "markdown",
   "source": "### Which Subscription Type is the most profitable for Netflix.? ",
   "id": "c343947fc3a5253b"
  },
  {
   "metadata": {
    "ExecuteTime": {
     "end_time": "2024-10-25T10:05:58.107670Z",
     "start_time": "2024-10-25T10:05:58.097116Z"
    }
   },
   "cell_type": "code",
   "source": [
    "query_4 = \"\"\" SELECT SubscriptionType,SUM(MONTHLYREVENUE) AS revenue FROM netflix_userbase \n",
    "                GROUP BY SubscriptionType \"\"\"\n",
    "\n",
    "money_from_subs = pd.read_sql(query_4, con=engine)\n",
    "\n",
    "money_from_subs.head()"
   ],
   "id": "7b16231d6d02c6cc",
   "outputs": [
    {
     "data": {
      "text/plain": [
       "  SubscriptionType  revenue\n",
       "0            Basic    12469\n",
       "1          Premium     9229\n",
       "2         Standard     9573"
      ],
      "text/html": [
       "<div>\n",
       "<style scoped>\n",
       "    .dataframe tbody tr th:only-of-type {\n",
       "        vertical-align: middle;\n",
       "    }\n",
       "\n",
       "    .dataframe tbody tr th {\n",
       "        vertical-align: top;\n",
       "    }\n",
       "\n",
       "    .dataframe thead th {\n",
       "        text-align: right;\n",
       "    }\n",
       "</style>\n",
       "<table border=\"1\" class=\"dataframe\">\n",
       "  <thead>\n",
       "    <tr style=\"text-align: right;\">\n",
       "      <th></th>\n",
       "      <th>SubscriptionType</th>\n",
       "      <th>revenue</th>\n",
       "    </tr>\n",
       "  </thead>\n",
       "  <tbody>\n",
       "    <tr>\n",
       "      <th>0</th>\n",
       "      <td>Basic</td>\n",
       "      <td>12469</td>\n",
       "    </tr>\n",
       "    <tr>\n",
       "      <th>1</th>\n",
       "      <td>Premium</td>\n",
       "      <td>9229</td>\n",
       "    </tr>\n",
       "    <tr>\n",
       "      <th>2</th>\n",
       "      <td>Standard</td>\n",
       "      <td>9573</td>\n",
       "    </tr>\n",
       "  </tbody>\n",
       "</table>\n",
       "</div>"
      ]
     },
     "execution_count": 12,
     "metadata": {},
     "output_type": "execute_result"
    }
   ],
   "execution_count": 12
  },
  {
   "metadata": {
    "ExecuteTime": {
     "end_time": "2024-10-25T10:05:58.297886Z",
     "start_time": "2024-10-25T10:05:58.147598Z"
    }
   },
   "cell_type": "code",
   "source": [
    "sns.barplot(data=money_from_subs, x='SubscriptionType', y='revenue', color='yellow',edgecolor='black')\n",
    "plt.title(\"Revenue by Netflix Subscription Type\")"
   ],
   "id": "8defead74ad2ba6c",
   "outputs": [
    {
     "data": {
      "text/plain": [
       "Text(0.5, 1.0, 'Revenue by Netflix Subscription Type')"
      ]
     },
     "execution_count": 13,
     "metadata": {},
     "output_type": "execute_result"
    },
    {
     "data": {
      "text/plain": [
       "<Figure size 640x480 with 1 Axes>"
      ],
      "image/png": "[encoded data removed]"
     },
     "metadata": {},
     "output_type": "display_data"
    }
   ],
   "execution_count": 13
  },
  {
   "metadata": {},
   "cell_type": "markdown",
   "source": "**Basic Plan pools in more revenue for Netflix.**",
   "id": "e3c8b99164e60aab"
  },
  {
   "metadata": {},
   "cell_type": "markdown",
   "source": "## Which gender uses Netflix the most?\n",
   "id": "d20ff6f759a32523"
  },
  {
   "metadata": {
    "ExecuteTime": {
     "end_time": "2024-10-25T10:05:58.344156Z",
     "start_time": "2024-10-25T10:05:58.333723Z"
    }
   },
   "cell_type": "code",
   "source": [
    "query_5 = \"\"\" SELECT Gender,COUNT(*) AS gender_count FROM  netflix_userbase \n",
    "                GROUP BY Gender \"\"\"\n",
    "\n",
    "gender_df = pd.read_sql(query_5, con=engine)\n",
    "\n",
    "gender_df.head()"
   ],
   "id": "25e03e12ed66264",
   "outputs": [
    {
     "data": {
      "text/plain": [
       "   Gender  gender_count\n",
       "0  Female          1257\n",
       "1    Male          1243"
      ],
      "text/html": [
       "<div>\n",
       "<style scoped>\n",
       "    .dataframe tbody tr th:only-of-type {\n",
       "        vertical-align: middle;\n",
       "    }\n",
       "\n",
       "    .dataframe tbody tr th {\n",
       "        vertical-align: top;\n",
       "    }\n",
       "\n",
       "    .dataframe thead th {\n",
       "        text-align: right;\n",
       "    }\n",
       "</style>\n",
       "<table border=\"1\" class=\"dataframe\">\n",
       "  <thead>\n",
       "    <tr style=\"text-align: right;\">\n",
       "      <th></th>\n",
       "      <th>Gender</th>\n",
       "      <th>gender_count</th>\n",
       "    </tr>\n",
       "  </thead>\n",
       "  <tbody>\n",
       "    <tr>\n",
       "      <th>0</th>\n",
       "      <td>Female</td>\n",
       "      <td>1257</td>\n",
       "    </tr>\n",
       "    <tr>\n",
       "      <th>1</th>\n",
       "      <td>Male</td>\n",
       "      <td>1243</td>\n",
       "    </tr>\n",
       "  </tbody>\n",
       "</table>\n",
       "</div>"
      ]
     },
     "execution_count": 14,
     "metadata": {},
     "output_type": "execute_result"
    }
   ],
   "execution_count": 14
  },
  {
   "metadata": {},
   "cell_type": "markdown",
   "source": "***Netlix has more female subscribers than male subscribers.***",
   "id": "31e14724c20c78a"
  },
  {
   "metadata": {
    "ExecuteTime": {
     "end_time": "2024-10-25T10:07:34.540720Z",
     "start_time": "2024-10-25T10:07:34.409013Z"
    }
   },
   "cell_type": "code",
   "source": [
    "sns.barplot(data=gender_df, x='Gender', y='gender_count', color='orange',edgecolor='black')\n",
    "plt.title(\"Gender bifurcation in Netflix userbase.\")"
   ],
   "id": "1ed9d4bed1a5508f",
   "outputs": [
    {
     "data": {
      "text/plain": [
       "Text(0.5, 1.0, 'Gender bifurcation in Netflix userbase.')"
      ]
     },
     "execution_count": 18,
     "metadata": {},
     "output_type": "execute_result"
    },
    {
     "data": {
      "text/plain": [
       "<Figure size 640x480 with 1 Axes>"
      ],
      "image/png": "[encoded data removed]"
     },
     "metadata": {},
     "output_type": "display_data"
    }
   ],
   "execution_count": 18
  },
  {
   "metadata": {},
   "cell_type": "markdown",
   "source": "## Which Country has the most number of Netflix Users?",
   "id": "f26328aae8faf2ef"
  },
  {
   "metadata": {
    "ExecuteTime": {
     "end_time": "2024-10-25T10:14:11.359732Z",
     "start_time": "2024-10-25T10:14:11.147857Z"
    }
   },
   "cell_type": "code",
   "source": [
    "query_6 = \"\"\" SELECT Country,COUNT(*) as country_count FROM netflix_userbase  \n",
    "                GROUP BY Country \"\"\"\n",
    "country_df = pd.read_sql(query_6, con=engine)\n",
    "sns.barplot(country_df, y='Country', x='country_count', hue='Country',edgecolor='black')\n",
    "plt.title(\"Country bifurcation in Netflix userbase.\")"
   ],
   "id": "ac0de2c6df7af0b3",
   "outputs": [
    {
     "data": {
      "text/plain": [
       "Text(0.5, 1.0, 'Country bifurcation in Netflix userbase.')"
      ]
     },
     "execution_count": 22,
     "metadata": {},
     "output_type": "execute_result"
    },
    {
     "data": {
      "text/plain": [
       "<Figure size 640x480 with 1 Axes>"
      ],
      "image/png": "[encoded data removed]"
     },
     "metadata": {},
     "output_type": "display_data"
    }
   ],
   "execution_count": 22
  },
  {
   "metadata": {},
   "cell_type": "markdown",
   "source": "***Spain has the most number of Netflix users according to the datatset***",
   "id": "1943ca331132d34d"
  },
  {
   "metadata": {},
   "cell_type": "markdown",
   "source": "## What is the average age of the user using Netflix?\n",
   "id": "52ce4b34deb10154"
  },
  {
   "metadata": {
    "ExecuteTime": {
     "end_time": "2024-10-25T10:29:37.995586Z",
     "start_time": "2024-10-25T10:29:37.983790Z"
    }
   },
   "cell_type": "code",
   "source": [
    "query_7 = \"SELECT AVG(Age) FROM netflix_userbase\"\n",
    "pd.read_sql(query_7, con=engine)"
   ],
   "id": "204fe16ca0200c88",
   "outputs": [
    {
     "data": {
      "text/plain": [
       "   AVG(Age)\n",
       "0   38.7956"
      ],
      "text/html": [
       "<div>\n",
       "<style scoped>\n",
       "    .dataframe tbody tr th:only-of-type {\n",
       "        vertical-align: middle;\n",
       "    }\n",
       "\n",
       "    .dataframe tbody tr th {\n",
       "        vertical-align: top;\n",
       "    }\n",
       "\n",
       "    .dataframe thead th {\n",
       "        text-align: right;\n",
       "    }\n",
       "</style>\n",
       "<table border=\"1\" class=\"dataframe\">\n",
       "  <thead>\n",
       "    <tr style=\"text-align: right;\">\n",
       "      <th></th>\n",
       "      <th>AVG(Age)</th>\n",
       "    </tr>\n",
       "  </thead>\n",
       "  <tbody>\n",
       "    <tr>\n",
       "      <th>0</th>\n",
       "      <td>38.7956</td>\n",
       "    </tr>\n",
       "  </tbody>\n",
       "</table>\n",
       "</div>"
      ]
     },
     "execution_count": 23,
     "metadata": {},
     "output_type": "execute_result"
    }
   ],
   "execution_count": 23
  },
  {
   "metadata": {},
   "cell_type": "markdown",
   "source": "## Which Country has the youngest user of Netflix ?\n",
   "id": "9b72fad7bffb76b6"
  },
  {
   "metadata": {
    "ExecuteTime": {
     "end_time": "2024-10-25T10:32:58.571987Z",
     "start_time": "2024-10-25T10:32:58.563336Z"
    }
   },
   "cell_type": "code",
   "source": [
    "query_8 = \"\"\" SELECT Country, AVG(Age) AS average_age FROM netflix_userbase \n",
    "                GROUP BY Country ORDER BY average_age ASC limit 1\n",
    "\"\"\"\n",
    "\n",
    "pd.read_sql(query_8, con=engine)"
   ],
   "id": "e91bd1e776190c27",
   "outputs": [
    {
     "data": {
      "text/plain": [
       "  Country  average_age\n",
       "0  Brazil    38.327869"
      ],
      "text/html": [
       "<div>\n",
       "<style scoped>\n",
       "    .dataframe tbody tr th:only-of-type {\n",
       "        vertical-align: middle;\n",
       "    }\n",
       "\n",
       "    .dataframe tbody tr th {\n",
       "        vertical-align: top;\n",
       "    }\n",
       "\n",
       "    .dataframe thead th {\n",
       "        text-align: right;\n",
       "    }\n",
       "</style>\n",
       "<table border=\"1\" class=\"dataframe\">\n",
       "  <thead>\n",
       "    <tr style=\"text-align: right;\">\n",
       "      <th></th>\n",
       "      <th>Country</th>\n",
       "      <th>average_age</th>\n",
       "    </tr>\n",
       "  </thead>\n",
       "  <tbody>\n",
       "    <tr>\n",
       "      <th>0</th>\n",
       "      <td>Brazil</td>\n",
       "      <td>38.327869</td>\n",
       "    </tr>\n",
       "  </tbody>\n",
       "</table>\n",
       "</div>"
      ]
     },
     "execution_count": 28,
     "metadata": {},
     "output_type": "execute_result"
    }
   ],
   "execution_count": 28
  },
  {
   "metadata": {},
   "cell_type": "markdown",
   "source": "***Brazil has the youngest user at 38 years old***",
   "id": "1c177a9f755f6ee9"
  }
 ],
 "metadata": {
  "kernelspec": {
   "display_name": "Python 3",
   "language": "python",
   "name": "python3"
  },
  "language_info": {
   "codemirror_mode": {
    "name": "ipython",
    "version": 2
   },
   "file_extension": ".py",
   "mimetype": "text/x-python",
   "name": "python",
   "nbconvert_exporter": "python",
   "pygments_lexer": "ipython2",
   "version": "2.7.6"
  }
 },
 "nbformat": 4,
 "nbformat_minor": 5
}
